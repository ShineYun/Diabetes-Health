{
 "cells": [
  {
   "cell_type": "code",
   "execution_count": 6,
   "metadata": {},
   "outputs": [],
   "source": [
    "import pandas as pd\n",
    "import numpy as np\n",
    "import matplotlib.pyplot as plt\n",
    "import seaborn as sns\n",
    "from scipy import stats\n",
    "from statsmodels.stats.outliers_influence import variance_inflation_factor\n",
    "from autoviz.classify_method import data_cleaning_suggestions ,data_suggestions\n",
    "import h2o\n",
    "from h2o.automl import H2OAutoML"
   ]
  },
  {
   "cell_type": "code",
   "execution_count": 7,
   "metadata": {},
   "outputs": [
    {
     "name": "stdout",
     "output_type": "stream",
     "text": [
      "Checking whether there is an H2O instance running at http://localhost:54321. connected.\n"
     ]
    },
    {
     "data": {
      "text/plain": "--------------------------  -----------------------------\nH2O_cluster_uptime:         1 min 49 secs\nH2O_cluster_timezone:       Asia/Hong_Kong\nH2O_data_parsing_timezone:  UTC\nH2O_cluster_version:        3.40.0.1\nH2O_cluster_version_age:    1 month and 14 days\nH2O_cluster_name:           H2O_from_python_usyun_71hfe8\nH2O_cluster_total_nodes:    1\nH2O_cluster_free_memory:    3.803 Gb\nH2O_cluster_total_cores:    8\nH2O_cluster_allowed_cores:  8\nH2O_cluster_status:         locked, healthy\nH2O_connection_url:         http://localhost:54321\nH2O_connection_proxy:       {\"http\": null, \"https\": null}\nH2O_internal_security:      False\nPython_version:             3.8.16 final\n--------------------------  -----------------------------",
      "text/html": "\n<style>\n\n#h2o-table-2.h2o-container {\n  overflow-x: auto;\n}\n#h2o-table-2 .h2o-table {\n  /* width: 100%; */\n  margin-top: 1em;\n  margin-bottom: 1em;\n}\n#h2o-table-2 .h2o-table caption {\n  white-space: nowrap;\n  caption-side: top;\n  text-align: left;\n  /* margin-left: 1em; */\n  margin: 0;\n  font-size: larger;\n}\n#h2o-table-2 .h2o-table thead {\n  white-space: nowrap; \n  position: sticky;\n  top: 0;\n  box-shadow: 0 -1px inset;\n}\n#h2o-table-2 .h2o-table tbody {\n  overflow: auto;\n}\n#h2o-table-2 .h2o-table th,\n#h2o-table-2 .h2o-table td {\n  text-align: right;\n  /* border: 1px solid; */\n}\n#h2o-table-2 .h2o-table tr:nth-child(even) {\n  /* background: #F5F5F5 */\n}\n\n</style>      \n<div id=\"h2o-table-2\" class=\"h2o-container\">\n  <table class=\"h2o-table\">\n    <caption></caption>\n    <thead></thead>\n    <tbody><tr><td>H2O_cluster_uptime:</td>\n<td>1 min 49 secs</td></tr>\n<tr><td>H2O_cluster_timezone:</td>\n<td>Asia/Hong_Kong</td></tr>\n<tr><td>H2O_data_parsing_timezone:</td>\n<td>UTC</td></tr>\n<tr><td>H2O_cluster_version:</td>\n<td>3.40.0.1</td></tr>\n<tr><td>H2O_cluster_version_age:</td>\n<td>1 month and 14 days</td></tr>\n<tr><td>H2O_cluster_name:</td>\n<td>H2O_from_python_usyun_71hfe8</td></tr>\n<tr><td>H2O_cluster_total_nodes:</td>\n<td>1</td></tr>\n<tr><td>H2O_cluster_free_memory:</td>\n<td>3.803 Gb</td></tr>\n<tr><td>H2O_cluster_total_cores:</td>\n<td>8</td></tr>\n<tr><td>H2O_cluster_allowed_cores:</td>\n<td>8</td></tr>\n<tr><td>H2O_cluster_status:</td>\n<td>locked, healthy</td></tr>\n<tr><td>H2O_connection_url:</td>\n<td>http://localhost:54321</td></tr>\n<tr><td>H2O_connection_proxy:</td>\n<td>{\"http\": null, \"https\": null}</td></tr>\n<tr><td>H2O_internal_security:</td>\n<td>False</td></tr>\n<tr><td>Python_version:</td>\n<td>3.8.16 final</td></tr></tbody>\n  </table>\n</div>\n"
     },
     "metadata": {},
     "output_type": "display_data"
    },
    {
     "name": "stdout",
     "output_type": "stream",
     "text": [
      "Parse progress: |████████████████████████████████████████████████████████████████| (done) 100%\n",
      "AutoML progress: |\n",
      "13:28:59.40: AutoML: XGBoost is not available; skipping it.\n",
      "\n",
      "███████████████████████████████████████████████████████████████| (done) 100%\n"
     ]
    },
    {
     "data": {
      "text/plain": "model_id                                                      auc    logloss     aucpr    mean_per_class_error      rmse       mse\n-------------------------------------------------------  --------  ---------  --------  ----------------------  --------  --------\nStackedEnsemble_AllModels_3_AutoML_2_20230323_132859     0.825091   0.507398  0.801116                0.253395  0.410892  0.168832\nGBM_grid_1_AutoML_2_20230323_132859_model_3              0.82485    0.508343  0.800666                0.250873  0.411171  0.169062\nStackedEnsemble_AllModels_2_AutoML_2_20230323_132859     0.82474    0.507786  0.800646                0.252258  0.411065  0.168974\nGBM_5_AutoML_2_20230323_132859                           0.824732   0.508087  0.801446                0.251953  0.411243  0.169121\nStackedEnsemble_BestOfFamily_3_AutoML_2_20230323_132859  0.824667   0.507925  0.80084                 0.254404  0.411166  0.169057\nStackedEnsemble_BestOfFamily_4_AutoML_2_20230323_132859  0.824618   0.508354  0.79996                 0.254195  0.411268  0.169141\nGBM_grid_1_AutoML_2_20230323_132859_model_6              0.824438   0.509036  0.800689                0.257774  0.411555  0.169377\nGBM_grid_1_AutoML_2_20230323_132859_model_8              0.824249   0.50886   0.799779                0.255667  0.411594  0.169409\nStackedEnsemble_AllModels_1_AutoML_2_20230323_132859     0.824049   0.508676  0.798829                0.258636  0.411468  0.169306\nGBM_grid_1_AutoML_2_20230323_132859_model_5              0.82384    0.509925  0.794199                0.255637  0.411756  0.169543\n[27 rows x 7 columns]\n",
      "text/html": "<table class='dataframe'>\n<thead>\n<tr><th>model_id                                               </th><th style=\"text-align: right;\">     auc</th><th style=\"text-align: right;\">  logloss</th><th style=\"text-align: right;\">   aucpr</th><th style=\"text-align: right;\">  mean_per_class_error</th><th style=\"text-align: right;\">    rmse</th><th style=\"text-align: right;\">     mse</th></tr>\n</thead>\n<tbody>\n<tr><td>StackedEnsemble_AllModels_3_AutoML_2_20230323_132859   </td><td style=\"text-align: right;\">0.825091</td><td style=\"text-align: right;\"> 0.507398</td><td style=\"text-align: right;\">0.801116</td><td style=\"text-align: right;\">              0.253395</td><td style=\"text-align: right;\">0.410892</td><td style=\"text-align: right;\">0.168832</td></tr>\n<tr><td>GBM_grid_1_AutoML_2_20230323_132859_model_3            </td><td style=\"text-align: right;\">0.82485 </td><td style=\"text-align: right;\"> 0.508343</td><td style=\"text-align: right;\">0.800666</td><td style=\"text-align: right;\">              0.250873</td><td style=\"text-align: right;\">0.411171</td><td style=\"text-align: right;\">0.169062</td></tr>\n<tr><td>StackedEnsemble_AllModels_2_AutoML_2_20230323_132859   </td><td style=\"text-align: right;\">0.82474 </td><td style=\"text-align: right;\"> 0.507786</td><td style=\"text-align: right;\">0.800646</td><td style=\"text-align: right;\">              0.252258</td><td style=\"text-align: right;\">0.411065</td><td style=\"text-align: right;\">0.168974</td></tr>\n<tr><td>GBM_5_AutoML_2_20230323_132859                         </td><td style=\"text-align: right;\">0.824732</td><td style=\"text-align: right;\"> 0.508087</td><td style=\"text-align: right;\">0.801446</td><td style=\"text-align: right;\">              0.251953</td><td style=\"text-align: right;\">0.411243</td><td style=\"text-align: right;\">0.169121</td></tr>\n<tr><td>StackedEnsemble_BestOfFamily_3_AutoML_2_20230323_132859</td><td style=\"text-align: right;\">0.824667</td><td style=\"text-align: right;\"> 0.507925</td><td style=\"text-align: right;\">0.80084 </td><td style=\"text-align: right;\">              0.254404</td><td style=\"text-align: right;\">0.411166</td><td style=\"text-align: right;\">0.169057</td></tr>\n<tr><td>StackedEnsemble_BestOfFamily_4_AutoML_2_20230323_132859</td><td style=\"text-align: right;\">0.824618</td><td style=\"text-align: right;\"> 0.508354</td><td style=\"text-align: right;\">0.79996 </td><td style=\"text-align: right;\">              0.254195</td><td style=\"text-align: right;\">0.411268</td><td style=\"text-align: right;\">0.169141</td></tr>\n<tr><td>GBM_grid_1_AutoML_2_20230323_132859_model_6            </td><td style=\"text-align: right;\">0.824438</td><td style=\"text-align: right;\"> 0.509036</td><td style=\"text-align: right;\">0.800689</td><td style=\"text-align: right;\">              0.257774</td><td style=\"text-align: right;\">0.411555</td><td style=\"text-align: right;\">0.169377</td></tr>\n<tr><td>GBM_grid_1_AutoML_2_20230323_132859_model_8            </td><td style=\"text-align: right;\">0.824249</td><td style=\"text-align: right;\"> 0.50886 </td><td style=\"text-align: right;\">0.799779</td><td style=\"text-align: right;\">              0.255667</td><td style=\"text-align: right;\">0.411594</td><td style=\"text-align: right;\">0.169409</td></tr>\n<tr><td>StackedEnsemble_AllModels_1_AutoML_2_20230323_132859   </td><td style=\"text-align: right;\">0.824049</td><td style=\"text-align: right;\"> 0.508676</td><td style=\"text-align: right;\">0.798829</td><td style=\"text-align: right;\">              0.258636</td><td style=\"text-align: right;\">0.411468</td><td style=\"text-align: right;\">0.169306</td></tr>\n<tr><td>GBM_grid_1_AutoML_2_20230323_132859_model_5            </td><td style=\"text-align: right;\">0.82384 </td><td style=\"text-align: right;\"> 0.509925</td><td style=\"text-align: right;\">0.794199</td><td style=\"text-align: right;\">              0.255637</td><td style=\"text-align: right;\">0.411756</td><td style=\"text-align: right;\">0.169543</td></tr>\n</tbody>\n</table><pre style='font-size: smaller; margin-bottom: 1em;'>[27 rows x 7 columns]</pre>"
     },
     "execution_count": 7,
     "metadata": {},
     "output_type": "execute_result"
    }
   ],
   "source": [
    "h2o.init()\n",
    "train = h2o.import_file('./data/diabetes_binary_5050split_health_indicators_BRFSS2015.csv')\n",
    "y = 'Diabetes_binary'\n",
    "x = list(train.columns)\n",
    "x.remove(y)\n",
    "train[y] = train[y].asfactor()\n",
    "# test[y] = test[y].asfactor()\n",
    "# Run AutoML for 30 seconds\n",
    "aml = H2OAutoML(max_runtime_secs = 30)\n",
    "aml.train(x = x, y = y, training_frame = train)\n",
    "# Print Leaderboard (ranked by xval metrics)\n",
    "aml.leaderboard\n"
   ]
  },
  {
   "cell_type": "code",
   "execution_count": 8,
   "metadata": {},
   "outputs": [
    {
     "name": "stdout",
     "output_type": "stream",
     "text": [
      "Parse progress: |████████████████████████████████████████████████████████████████| (done) 100%\n",
      "Accuracy on new data:  [[0.8526135969745323, 0.8682395143487859]]\n"
     ]
    }
   ],
   "source": [
    "test = h2o.import_file('./data/diabetes_binary_health_indicators_BRFSS2015.csv')\n",
    "actuals = test[\"Diabetes_binary\"].as_data_frame().values.flatten()\n",
    "performance = aml.leader.model_performance(test)\n",
    "print(\"Accuracy on new data: \", performance.accuracy())\n",
    "# (Optional) Evaluate performance on a test set"
   ]
  }
 ],
 "metadata": {
  "kernelspec": {
   "display_name": "Python 3 (ipykernel)",
   "language": "python",
   "name": "python3"
  },
  "language_info": {
   "codemirror_mode": {
    "name": "ipython",
    "version": 3
   },
   "file_extension": ".py",
   "mimetype": "text/x-python",
   "name": "python",
   "nbconvert_exporter": "python",
   "pygments_lexer": "ipython3",
   "version": "3.8.16"
  }
 },
 "nbformat": 4,
 "nbformat_minor": 1
}
